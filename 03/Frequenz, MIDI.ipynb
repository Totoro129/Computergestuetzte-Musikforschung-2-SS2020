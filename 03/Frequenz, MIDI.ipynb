{
 "cells": [
  {
   "cell_type": "code",
   "execution_count": 1,
   "metadata": {},
   "outputs": [
    {
     "data": {
      "text/html": [
       "<style>\n",
       "    table {\n",
       "        display: inline-block\n",
       "    }\n",
       "</style>\n"
      ],
      "text/plain": [
       "<IPython.core.display.HTML object>"
      ]
     },
     "metadata": {},
     "output_type": "display_data"
    }
   ],
   "source": [
    "%%html\n",
    "<style>\n",
    "    table {\n",
    "        display: inline-block\n",
    "    }\n",
    "</style>"
   ]
  },
  {
   "cell_type": "markdown",
   "metadata": {},
   "source": [
    "# Frequenz, MIDI"
   ]
  },
  {
   "cell_type": "markdown",
   "metadata": {},
   "source": [
    "velocity = 0 - 127\n",
    "\n",
    "pitch = 0 - 127 \n",
    "    \n",
    "MIDI-Pitch | Tonhöhe | Frequenz\n",
    ":---:|:---:|:---:\n",
    "60 | C' / C4 | 261.63 Hz \n",
    "72 | C'' / C5 | 523.26 Hz\n",
    "69 | A' / A4  | 440 Hz\n",
    "\n",
    "\\\\(440\\\\) <=> \\\\(69\\\\)\n",
    "\n",
    "\\\\(440 \\cdot 2\\\\) <=> \\\\(69 + 12\\\\)\n",
    "\n",
    "womit müssen wir die frequenz multiplizieren, wenn wir einen Halbtonschritt nach oben gehen wollen?\n",
    "\n",
    "\\\\(440 \\cdot 2^{1 / 12}\\\\) <=> \\\\(69 + 1\\\\)\n",
    "\n",
    "\\\\(440 \\cdot 2^{n / 12}\\\\) <=> \\\\(69 + n\\\\)\n",
    "\n",
    "\\\\(440 \\cdot 2^{-1 / 12}\\\\) <=> \\\\(69 + (-1)\\\\)"
   ]
  },
  {
   "cell_type": "code",
   "execution_count": 2,
   "metadata": {},
   "outputs": [
    {
     "name": "stdout",
     "output_type": "stream",
     "text": [
      "440.0\n",
      "880.0\n",
      "261.6255653005986\n",
      "523.2511306011972\n"
     ]
    }
   ],
   "source": [
    "def midi_to_frequency(midi_pitch):\n",
    "    freq = 440 * 2 ** ((midi_pitch - 69) / 12)\n",
    "    return freq\n",
    "\n",
    "print(midi_to_frequency(69))\n",
    "print(midi_to_frequency(81))\n",
    "print(midi_to_frequency(60))\n",
    "print(midi_to_frequency(72))\n",
    "\n",
    "# --> andersherum? frequency_to_midi"
   ]
  }
 ],
 "metadata": {
  "kernelspec": {
   "display_name": "Python 3",
   "language": "python",
   "name": "python3"
  },
  "language_info": {
   "codemirror_mode": {
    "name": "ipython",
    "version": 3
   },
   "file_extension": ".py",
   "mimetype": "text/x-python",
   "name": "python",
   "nbconvert_exporter": "python",
   "pygments_lexer": "ipython3",
   "version": "3.7.7"
  },
  "toc": {
   "base_numbering": 1,
   "nav_menu": {},
   "number_sections": true,
   "sideBar": true,
   "skip_h1_title": false,
   "title_cell": "Table of Contents",
   "title_sidebar": "Contents",
   "toc_cell": false,
   "toc_position": {},
   "toc_section_display": true,
   "toc_window_display": false
  },
  "varInspector": {
   "cols": {
    "lenName": 16,
    "lenType": 16,
    "lenVar": 40
   },
   "kernels_config": {
    "python": {
     "delete_cmd_postfix": "",
     "delete_cmd_prefix": "del ",
     "library": "var_list.py",
     "varRefreshCmd": "print(var_dic_list())"
    },
    "r": {
     "delete_cmd_postfix": ") ",
     "delete_cmd_prefix": "rm(",
     "library": "var_list.r",
     "varRefreshCmd": "cat(var_dic_list()) "
    }
   },
   "types_to_exclude": [
    "module",
    "function",
    "builtin_function_or_method",
    "instance",
    "_Feature"
   ],
   "window_display": false
  }
 },
 "nbformat": 4,
 "nbformat_minor": 2
}
