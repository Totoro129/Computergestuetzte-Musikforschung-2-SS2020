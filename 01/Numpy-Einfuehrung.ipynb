{
 "cells": [
  {
   "cell_type": "markdown",
   "metadata": {},
   "source": [
    "# Numpy"
   ]
  },
  {
   "cell_type": "code",
   "execution_count": 1,
   "metadata": {},
   "outputs": [],
   "source": [
    "# das Modul importieren\n",
    "import numpy as np # \"np\" hat sich etabliert"
   ]
  },
  {
   "cell_type": "markdown",
   "metadata": {},
   "source": [
    "## Numpy Arrays"
   ]
  },
  {
   "cell_type": "code",
   "execution_count": 7,
   "metadata": {},
   "outputs": [
    {
     "name": "stdout",
     "output_type": "stream",
     "text": [
      "[2 3 4 5]\n",
      "\n",
      "[[1 2 3]\n",
      " [4 5 6]\n",
      " [7 8 9]]\n"
     ]
    }
   ],
   "source": [
    "# Wiederholung: Python\n",
    "[1, 2, 3, 4] # list\n",
    "(1, 2, 3, 4) # tuple\n",
    "\n",
    "# Numpy Array\n",
    "a = np.array([2, 3, 4, 5])\n",
    "print(a)\n",
    "\n",
    "print()\n",
    "\n",
    "# multi-dimensional:\n",
    "b = np.array([ [1, 2, 3], [4, 5, 6], [7, 8, 9] ])\n",
    "print(b)"
   ]
  },
  {
   "cell_type": "markdown",
   "metadata": {},
   "source": [
    "### Array-Operationen"
   ]
  },
  {
   "cell_type": "code",
   "execution_count": 51,
   "metadata": {},
   "outputs": [
    {
     "name": "stdout",
     "output_type": "stream",
     "text": [
      "[0 1 2 3 4 5 6 7 8 9]\n",
      "[ 1  2  3  4  5  6  7  8  9 10]\n",
      "[ 0  2  4  6  8 10 12 14 16 18]\n",
      "\n",
      "[[1 2 3]\n",
      " [4 5 6]\n",
      " [7 8 9]]\n",
      "[[ 2  3  4]\n",
      " [ 5  6  7]\n",
      " [ 8  9 10]]\n",
      "[[ 2  4  6]\n",
      " [ 8 10 12]\n",
      " [14 16 18]]\n",
      "\n",
      "[0 1 2 3 4 5 6 7 8 9]\n",
      "[False False False False  True  True  True  True  True  True]\n"
     ]
    }
   ],
   "source": [
    "print(a)\n",
    "print(a + 1) # element-wise operation\n",
    "print(a * 2)\n",
    "\n",
    "print()\n",
    "\n",
    "print(b)\n",
    "print(b + 1) # element-wise operation\n",
    "print(b * 2)\n",
    "\n",
    "# was wir (ich) waehrend des seminars vergessen haben:\n",
    "print()\n",
    "print(a)\n",
    "print(a > 3)"
   ]
  },
  {
   "cell_type": "markdown",
   "metadata": {},
   "source": [
    "\n",
    "\n",
    "\n",
    "Im Gegensatz dazu das Verhalten von Python-Listen:"
   ]
  },
  {
   "cell_type": "code",
   "execution_count": 19,
   "metadata": {
    "scrolled": true
   },
   "outputs": [
    {
     "data": {
      "text/plain": [
       "[1, 2, 3, 4, 1]"
      ]
     },
     "execution_count": 19,
     "metadata": {},
     "output_type": "execute_result"
    }
   ],
   "source": [
    "[1, 2, 3, 4] + [1] # concatenate (listen)"
   ]
  },
  {
   "cell_type": "markdown",
   "metadata": {},
   "source": [
    "### Auf Array-Elemente zugreifen"
   ]
  },
  {
   "cell_type": "code",
   "execution_count": 22,
   "metadata": {},
   "outputs": [
    {
     "name": "stdout",
     "output_type": "stream",
     "text": [
      "2\n",
      "[1 2 3]\n",
      "6\n"
     ]
    }
   ],
   "source": [
    "print(a[0])\n",
    "\n",
    "print(b[0]) # erste (nullte) Zeile\n",
    "\n",
    "print(b[1, 2]) # Element aus der zweiten Zeile, dritte Spalte"
   ]
  },
  {
   "cell_type": "code",
   "execution_count": 71,
   "metadata": {},
   "outputs": [
    {
     "name": "stdout",
     "output_type": "stream",
     "text": [
      "[0 1 2 3 4 5 6 7 8 9]\n",
      "[1, 4)  = inklusive 1, exklusive 4 \t\t [1 2 3]\n",
      "von 1 bis Ende \t\t\t\t\t [1 2 3 4 5 6 7 8 9]\n",
      "von Anfang bis Ende \t\t\t\t [0 1 2 3 4 5 6 7 8 9]\n",
      "9. Element (in diesem Fall das letzte Element) \t 9\n",
      "letztes element \t\t\t\t 9\n",
      "vorletztes element \t\t\t\t 8\n",
      "inkl. 2 bis exkl. vorletztes: \t\t\t [2 3 4 5 6 7]\n",
      "\n",
      "zweite und dritte Zeile:\n",
      " [[4 5 6]\n",
      " [7 8 9]] \n",
      "\n",
      "zweite bis letzte Zeile:\n",
      " [[4 5 6]\n",
      " [7 8 9]] \n",
      "\n",
      "zweite Spalte\n",
      " [2 5 8] \n",
      "(Elemente aus allen Zeilen, aber nur jeweils aus der zweiten Spalte)\n"
     ]
    }
   ],
   "source": [
    "a = np.array([0, 1, 2, 3, 4, 5, 6, 7, 8, 9])\n",
    "print(a)\n",
    "print(\"[1, 4)  = inklusive 1, exklusive 4 \\t\\t\", a[1:4])\n",
    "print(\"von 1 bis Ende \\t\\t\\t\\t\\t\", a[1:])\n",
    "print(\"von Anfang bis Ende \\t\\t\\t\\t\", a[:])\n",
    "print(\"9. Element (in diesem Fall das letzte Element) \\t\", a[9])\n",
    "print(\"letztes element \\t\\t\\t\\t\", a[-1])\n",
    "print(\"vorletztes element \\t\\t\\t\\t\", a[-2])\n",
    "print(\"inkl. 2 bis exkl. vorletztes: \\t\\t\\t\", a[2:-2])\n",
    "\n",
    "print()\n",
    "\n",
    "print(\"zweite und dritte Zeile:\\n\", b[1:3], \"\\n\") \n",
    "print(\"zweite bis letzte Zeile:\\n\", b[1:], \"\\n\")\n",
    "print(\"zweite Spalte\\n\", b[:, 1], \"\\n(Elemente aus allen Zeilen, aber nur jeweils aus der zweiten Spalte)\")"
   ]
  },
  {
   "cell_type": "markdown",
   "metadata": {},
   "source": [
    "**Nebenbemerkung:**\n",
    "\n",
    "'Tab' --> Autocompletion\n",
    "\n",
    "'Shift-Tab' --> Dokumentation"
   ]
  },
  {
   "cell_type": "markdown",
   "metadata": {},
   "source": [
    "## Numpy-Arrays erstellen\n",
    "\n",
    "### np.linspace und np.arange"
   ]
  },
  {
   "cell_type": "code",
   "execution_count": 73,
   "metadata": {},
   "outputs": [
    {
     "name": "stdout",
     "output_type": "stream",
     "text": [
      "[ 0.          0.2020202   0.4040404   0.60606061  0.80808081  1.01010101\n",
      "  1.21212121  1.41414141  1.61616162  1.81818182  2.02020202  2.22222222\n",
      "  2.42424242  2.62626263  2.82828283  3.03030303  3.23232323  3.43434343\n",
      "  3.63636364  3.83838384  4.04040404  4.24242424  4.44444444  4.64646465\n",
      "  4.84848485  5.05050505  5.25252525  5.45454545  5.65656566  5.85858586\n",
      "  6.06060606  6.26262626  6.46464646  6.66666667  6.86868687  7.07070707\n",
      "  7.27272727  7.47474747  7.67676768  7.87878788  8.08080808  8.28282828\n",
      "  8.48484848  8.68686869  8.88888889  9.09090909  9.29292929  9.49494949\n",
      "  9.6969697   9.8989899  10.1010101  10.3030303  10.50505051 10.70707071\n",
      " 10.90909091 11.11111111 11.31313131 11.51515152 11.71717172 11.91919192\n",
      " 12.12121212 12.32323232 12.52525253 12.72727273 12.92929293 13.13131313\n",
      " 13.33333333 13.53535354 13.73737374 13.93939394 14.14141414 14.34343434\n",
      " 14.54545455 14.74747475 14.94949495 15.15151515 15.35353535 15.55555556\n",
      " 15.75757576 15.95959596 16.16161616 16.36363636 16.56565657 16.76767677\n",
      " 16.96969697 17.17171717 17.37373737 17.57575758 17.77777778 17.97979798\n",
      " 18.18181818 18.38383838 18.58585859 18.78787879 18.98989899 19.19191919\n",
      " 19.39393939 19.5959596  19.7979798  20.        ] \n",
      "\n",
      "[ 0.          2.22222222  4.44444444  6.66666667  8.88888889 11.11111111\n",
      " 13.33333333 15.55555556 17.77777778 20.        ] \n",
      "\n",
      "[ 0.  1.  2.  3.  4.  5.  6.  7.  8.  9. 10. 11. 12. 13. 14. 15. 16. 17.\n",
      " 18. 19. 20.]\n"
     ]
    }
   ],
   "source": [
    "p = np.linspace(0, 20, 100)\n",
    "print(p, \"\\n\")\n",
    "p = np.linspace(0, 20, 10)\n",
    "print(p, \"\\n\")\n",
    "p = np.linspace(0, 20, 21)\n",
    "print(p)"
   ]
  },
  {
   "cell_type": "code",
   "execution_count": 74,
   "metadata": {},
   "outputs": [
    {
     "name": "stdout",
     "output_type": "stream",
     "text": [
      "[ 0  1  2  3  4  5  6  7  8  9 10 11 12 13 14 15 16 17 18 19 20]\n",
      "[ 2  3  4  5  6  7  8  9 10 11 12 13 14 15 16 17 18 19 20]\n",
      "[ 2  4  6  8 10 12 14 16 18 20]\n"
     ]
    }
   ],
   "source": [
    "print(np.arange(21))\n",
    "print(np.arange(2, 21))\n",
    "print(np.arange(2, 21, 2))"
   ]
  },
  {
   "cell_type": "markdown",
   "metadata": {},
   "source": [
    "## PI"
   ]
  },
  {
   "cell_type": "code",
   "execution_count": 37,
   "metadata": {},
   "outputs": [
    {
     "data": {
      "text/plain": [
       "3.141592653589793"
      ]
     },
     "execution_count": 37,
     "metadata": {},
     "output_type": "execute_result"
    }
   ],
   "source": [
    "np.pi"
   ]
  }
 ],
 "metadata": {
  "kernelspec": {
   "display_name": "Python 3",
   "language": "python",
   "name": "python3"
  },
  "language_info": {
   "codemirror_mode": {
    "name": "ipython",
    "version": 3
   },
   "file_extension": ".py",
   "mimetype": "text/x-python",
   "name": "python",
   "nbconvert_exporter": "python",
   "pygments_lexer": "ipython3",
   "version": "3.7.7"
  },
  "toc": {
   "base_numbering": 1,
   "nav_menu": {},
   "number_sections": true,
   "sideBar": true,
   "skip_h1_title": false,
   "title_cell": "Table of Contents",
   "title_sidebar": "Contents",
   "toc_cell": false,
   "toc_position": {},
   "toc_section_display": true,
   "toc_window_display": true
  },
  "varInspector": {
   "cols": {
    "lenName": 16,
    "lenType": 16,
    "lenVar": 40
   },
   "kernels_config": {
    "python": {
     "delete_cmd_postfix": "",
     "delete_cmd_prefix": "del ",
     "library": "var_list.py",
     "varRefreshCmd": "print(var_dic_list())"
    },
    "r": {
     "delete_cmd_postfix": ") ",
     "delete_cmd_prefix": "rm(",
     "library": "var_list.r",
     "varRefreshCmd": "cat(var_dic_list()) "
    }
   },
   "types_to_exclude": [
    "module",
    "function",
    "builtin_function_or_method",
    "instance",
    "_Feature"
   ],
   "window_display": false
  }
 },
 "nbformat": 4,
 "nbformat_minor": 2
}
